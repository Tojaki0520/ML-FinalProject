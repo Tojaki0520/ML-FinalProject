{
 "cells": [
  {
   "cell_type": "code",
   "execution_count": 17,
   "id": "b1370692",
   "metadata": {},
   "outputs": [],
   "source": [
    "import pandas as pd\n",
    "import numpy as np\n",
    "import matplotlib.pyplot as plt\n",
    "import seaborn as sns\n",
    "%matplotlib inline\n",
    "\n",
    "import random\n",
    "import os\n",
    "import cv2\n",
    "from tqdm import tqdm\n",
    "\n",
    "import tensorflow as tf\n",
    "from tensorflow import keras\n",
    "from keras.models import Sequential\n",
    "from keras.layers import Dense, Dropout, Flatten, Input\n",
    "from keras.layers import Conv2D, MaxPooling2D, BatchNormalization, GlobalAveragePooling2D\n",
    "from keras.models import Model\n",
    "from keras.regularizers import l2\n",
    "from keras.callbacks import EarlyStopping\n",
    "from keras.preprocessing import image"
   ]
  },
  {
   "cell_type": "code",
   "execution_count": 2,
   "id": "6f0ac3b3",
   "metadata": {},
   "outputs": [],
   "source": [
    "# Helper function to print loss function and accuracy history\n",
    "def history(model):\n",
    "    plt.figure(figsize = (15, 5) )\n",
    "\n",
    "    plt.subplot(121)\n",
    "    plt.plot(model.history['loss'], color='blue', label='train')\n",
    "    plt.plot(model.history['val_loss'], color='red', label='valid')\n",
    "    plt.legend()\n",
    "    plt.xlabel('Epoch')\n",
    "    plt.ylabel('Loss Function')\n",
    "\n",
    "    plt.subplot(122)\n",
    "    plt.plot(model.history['binary_accuracy'], color = 'blue', label='train')\n",
    "    plt.plot(model.history['val_binary_accuracy'], color='red', label='valid')\n",
    "    plt.legend()\n",
    "    plt.xlabel('Epoch')\n",
    "    plt.ylabel('Accuracy')"
   ]
  },
  {
   "cell_type": "code",
   "execution_count": 3,
   "id": "8fdf5b8d",
   "metadata": {},
   "outputs": [],
   "source": [
    "# Helper function to calculate results\n",
    "def true_pos(y_true, y_pred):\n",
    "    return np.sum(y_true * y_pred)\n",
    "\n",
    "\n",
    "def false_pos(y_true, y_pred):\n",
    "    return np.sum(y_true * (1. - y_pred))\n",
    "\n",
    "\n",
    "def false_neg(y_true, y_pred):\n",
    "    return np.sum((1. - y_true) * y_pred)\n",
    "\n",
    "\n",
    "def precision(y_true, y_pred):\n",
    "    return true_pos(y_true, y_pred) / (true_pos(y_true, y_pred) + false_pos(y_true, y_pred))\n",
    "\n",
    "\n",
    "def recall(y_true, y_pred):\n",
    "    return true_pos(y_true, y_pred) / (true_pos(y_true, y_pred) + false_neg(y_true, y_pred))\n",
    "\n",
    "\n",
    "def f1_score(y_true, y_pred):\n",
    "    return 2. / (1. / recall(y_true, y_pred) + 1. / precision(y_true, y_pred))"
   ]
  },
  {
   "cell_type": "markdown",
   "id": "5dd01f8d",
   "metadata": {},
   "source": [
    "### Feature Engineering"
   ]
  },
  {
   "cell_type": "code",
   "execution_count": 2,
   "id": "9ad918aa",
   "metadata": {},
   "outputs": [
    {
     "data": {
      "text/html": [
       "<div>\n",
       "<style scoped>\n",
       "    .dataframe tbody tr th:only-of-type {\n",
       "        vertical-align: middle;\n",
       "    }\n",
       "\n",
       "    .dataframe tbody tr th {\n",
       "        vertical-align: top;\n",
       "    }\n",
       "\n",
       "    .dataframe thead th {\n",
       "        text-align: right;\n",
       "    }\n",
       "</style>\n",
       "<table border=\"1\" class=\"dataframe\">\n",
       "  <thead>\n",
       "    <tr style=\"text-align: right;\">\n",
       "      <th></th>\n",
       "      <th>business_id</th>\n",
       "      <th>labels</th>\n",
       "    </tr>\n",
       "  </thead>\n",
       "  <tbody>\n",
       "    <tr>\n",
       "      <th>0</th>\n",
       "      <td>1000</td>\n",
       "      <td>1 2 3 4 5 6 7</td>\n",
       "    </tr>\n",
       "    <tr>\n",
       "      <th>1</th>\n",
       "      <td>1001</td>\n",
       "      <td>0 1 6 8</td>\n",
       "    </tr>\n",
       "    <tr>\n",
       "      <th>2</th>\n",
       "      <td>100</td>\n",
       "      <td>1 2 4 5 6 7</td>\n",
       "    </tr>\n",
       "    <tr>\n",
       "      <th>3</th>\n",
       "      <td>1006</td>\n",
       "      <td>1 2 4 5 6</td>\n",
       "    </tr>\n",
       "    <tr>\n",
       "      <th>4</th>\n",
       "      <td>1010</td>\n",
       "      <td>0 6 8</td>\n",
       "    </tr>\n",
       "  </tbody>\n",
       "</table>\n",
       "</div>"
      ],
      "text/plain": [
       "   business_id         labels\n",
       "0         1000  1 2 3 4 5 6 7\n",
       "1         1001        0 1 6 8\n",
       "2          100    1 2 4 5 6 7\n",
       "3         1006      1 2 4 5 6\n",
       "4         1010          0 6 8"
      ]
     },
     "execution_count": 2,
     "metadata": {},
     "output_type": "execute_result"
    }
   ],
   "source": [
    "train_label = pd.read_csv(\"Data/train.csv\")\n",
    "train_label.head()"
   ]
  },
  {
   "cell_type": "code",
   "execution_count": 3,
   "id": "a9516e80",
   "metadata": {},
   "outputs": [
    {
     "data": {
      "text/html": [
       "<div>\n",
       "<style scoped>\n",
       "    .dataframe tbody tr th:only-of-type {\n",
       "        vertical-align: middle;\n",
       "    }\n",
       "\n",
       "    .dataframe tbody tr th {\n",
       "        vertical-align: top;\n",
       "    }\n",
       "\n",
       "    .dataframe thead th {\n",
       "        text-align: right;\n",
       "    }\n",
       "</style>\n",
       "<table border=\"1\" class=\"dataframe\">\n",
       "  <thead>\n",
       "    <tr style=\"text-align: right;\">\n",
       "      <th></th>\n",
       "      <th>business_id</th>\n",
       "      <th>labels</th>\n",
       "    </tr>\n",
       "  </thead>\n",
       "  <tbody>\n",
       "    <tr>\n",
       "      <th>0</th>\n",
       "      <td>1000</td>\n",
       "      <td>[1, 2, 3, 4, 5, 6, 7]</td>\n",
       "    </tr>\n",
       "    <tr>\n",
       "      <th>1</th>\n",
       "      <td>1001</td>\n",
       "      <td>[0, 1, 6, 8]</td>\n",
       "    </tr>\n",
       "    <tr>\n",
       "      <th>2</th>\n",
       "      <td>100</td>\n",
       "      <td>[1, 2, 4, 5, 6, 7]</td>\n",
       "    </tr>\n",
       "    <tr>\n",
       "      <th>3</th>\n",
       "      <td>1006</td>\n",
       "      <td>[1, 2, 4, 5, 6]</td>\n",
       "    </tr>\n",
       "    <tr>\n",
       "      <th>4</th>\n",
       "      <td>1010</td>\n",
       "      <td>[0, 6, 8]</td>\n",
       "    </tr>\n",
       "  </tbody>\n",
       "</table>\n",
       "</div>"
      ],
      "text/plain": [
       "   business_id                 labels\n",
       "0         1000  [1, 2, 3, 4, 5, 6, 7]\n",
       "1         1001           [0, 1, 6, 8]\n",
       "2          100     [1, 2, 4, 5, 6, 7]\n",
       "3         1006        [1, 2, 4, 5, 6]\n",
       "4         1010              [0, 6, 8]"
      ]
     },
     "execution_count": 3,
     "metadata": {},
     "output_type": "execute_result"
    }
   ],
   "source": [
    "train_label['labels'] = train_label['labels'].apply(lambda x:str(x).split(' '))\n",
    "train_label.head()"
   ]
  },
  {
   "cell_type": "code",
   "execution_count": 4,
   "id": "c0542c19",
   "metadata": {},
   "outputs": [
    {
     "data": {
      "text/html": [
       "<div>\n",
       "<style scoped>\n",
       "    .dataframe tbody tr th:only-of-type {\n",
       "        vertical-align: middle;\n",
       "    }\n",
       "\n",
       "    .dataframe tbody tr th {\n",
       "        vertical-align: top;\n",
       "    }\n",
       "\n",
       "    .dataframe thead th {\n",
       "        text-align: right;\n",
       "    }\n",
       "</style>\n",
       "<table border=\"1\" class=\"dataframe\">\n",
       "  <thead>\n",
       "    <tr style=\"text-align: right;\">\n",
       "      <th></th>\n",
       "      <th>photo_id</th>\n",
       "      <th>business_id</th>\n",
       "    </tr>\n",
       "  </thead>\n",
       "  <tbody>\n",
       "    <tr>\n",
       "      <th>0</th>\n",
       "      <td>204149</td>\n",
       "      <td>3034</td>\n",
       "    </tr>\n",
       "    <tr>\n",
       "      <th>1</th>\n",
       "      <td>52779</td>\n",
       "      <td>2805</td>\n",
       "    </tr>\n",
       "    <tr>\n",
       "      <th>2</th>\n",
       "      <td>278973</td>\n",
       "      <td>485</td>\n",
       "    </tr>\n",
       "    <tr>\n",
       "      <th>3</th>\n",
       "      <td>195284</td>\n",
       "      <td>485</td>\n",
       "    </tr>\n",
       "    <tr>\n",
       "      <th>4</th>\n",
       "      <td>19992</td>\n",
       "      <td>485</td>\n",
       "    </tr>\n",
       "  </tbody>\n",
       "</table>\n",
       "</div>"
      ],
      "text/plain": [
       "   photo_id  business_id\n",
       "0    204149         3034\n",
       "1     52779         2805\n",
       "2    278973          485\n",
       "3    195284          485\n",
       "4     19992          485"
      ]
     },
     "execution_count": 4,
     "metadata": {},
     "output_type": "execute_result"
    }
   ],
   "source": [
    "train_biz = pd.read_csv(\"Data/train_photo_to_biz_ids.csv\")\n",
    "train_biz.head()"
   ]
  },
  {
   "cell_type": "code",
   "execution_count": 5,
   "id": "6edaf875",
   "metadata": {},
   "outputs": [
    {
     "name": "stderr",
     "output_type": "stream",
     "text": [
      "100%|██████████████████████████████████| 234842/234842 [06:52<00:00, 569.35it/s]\n"
     ]
    }
   ],
   "source": [
    "# Load train images\n",
    "X_train = []\n",
    "\n",
    "for i in tqdm(range(len(train_biz))):\n",
    "    img_path = \"Data/train_photos/\" + str(train_biz.photo_id[i]) + '.jpg'\n",
    "    img = image.load_img(img_path, target_size=(120, 120))\n",
    "    X = image.img_to_array(img)\n",
    "    X = np.expand_dims(X, axis=0)\n",
    "    X_train.append(X)"
   ]
  },
  {
   "cell_type": "code",
   "execution_count": 6,
   "id": "9e8776ae",
   "metadata": {},
   "outputs": [
    {
     "data": {
      "text/html": [
       "<div>\n",
       "<style scoped>\n",
       "    .dataframe tbody tr th:only-of-type {\n",
       "        vertical-align: middle;\n",
       "    }\n",
       "\n",
       "    .dataframe tbody tr th {\n",
       "        vertical-align: top;\n",
       "    }\n",
       "\n",
       "    .dataframe thead th {\n",
       "        text-align: right;\n",
       "    }\n",
       "</style>\n",
       "<table border=\"1\" class=\"dataframe\">\n",
       "  <thead>\n",
       "    <tr style=\"text-align: right;\">\n",
       "      <th></th>\n",
       "      <th>features</th>\n",
       "      <th>photo_id</th>\n",
       "      <th>business_id</th>\n",
       "    </tr>\n",
       "  </thead>\n",
       "  <tbody>\n",
       "    <tr>\n",
       "      <th>0</th>\n",
       "      <td>[[[[ 76. 102. 119.], [40. 57. 65.], [20. 24. 2...</td>\n",
       "      <td>204149</td>\n",
       "      <td>3034</td>\n",
       "    </tr>\n",
       "    <tr>\n",
       "      <th>1</th>\n",
       "      <td>[[[[0. 0. 0.], [0. 0. 0.], [0. 0. 0.], [0. 0. ...</td>\n",
       "      <td>52779</td>\n",
       "      <td>2805</td>\n",
       "    </tr>\n",
       "    <tr>\n",
       "      <th>2</th>\n",
       "      <td>[[[[191. 141. 130.], [233. 169. 160.], [243. 2...</td>\n",
       "      <td>278973</td>\n",
       "      <td>485</td>\n",
       "    </tr>\n",
       "    <tr>\n",
       "      <th>3</th>\n",
       "      <td>[[[[59. 58. 54.], [51. 48. 43.], [78. 87. 86.]...</td>\n",
       "      <td>195284</td>\n",
       "      <td>485</td>\n",
       "    </tr>\n",
       "    <tr>\n",
       "      <th>4</th>\n",
       "      <td>[[[[ 96. 101.  95.], [ 96. 104.  89.], [ 97. 1...</td>\n",
       "      <td>19992</td>\n",
       "      <td>485</td>\n",
       "    </tr>\n",
       "  </tbody>\n",
       "</table>\n",
       "</div>"
      ],
      "text/plain": [
       "                                            features  photo_id  business_id\n",
       "0  [[[[ 76. 102. 119.], [40. 57. 65.], [20. 24. 2...    204149         3034\n",
       "1  [[[[0. 0. 0.], [0. 0. 0.], [0. 0. 0.], [0. 0. ...     52779         2805\n",
       "2  [[[[191. 141. 130.], [233. 169. 160.], [243. 2...    278973          485\n",
       "3  [[[[59. 58. 54.], [51. 48. 43.], [78. 87. 86.]...    195284          485\n",
       "4  [[[[ 96. 101.  95.], [ 96. 104.  89.], [ 97. 1...     19992          485"
      ]
     },
     "execution_count": 6,
     "metadata": {},
     "output_type": "execute_result"
    }
   ],
   "source": [
    "features_train = pd.DataFrame({'features' : X_train})\n",
    "train_merge = pd.concat([features_train, train_biz], axis=1)\n",
    "train_merge.head()"
   ]
  },
  {
   "cell_type": "code",
   "execution_count": 7,
   "id": "eb9b2e08",
   "metadata": {},
   "outputs": [
    {
     "data": {
      "text/plain": [
       "(234842, 4)"
      ]
     },
     "execution_count": 7,
     "metadata": {},
     "output_type": "execute_result"
    }
   ],
   "source": [
    "train_comp = train_merge.merge(train_label, on='business_id', how='left')\n",
    "train_comp.shape"
   ]
  },
  {
   "cell_type": "code",
   "execution_count": 8,
   "id": "24313d48",
   "metadata": {},
   "outputs": [],
   "source": [
    "# Randomly select 10 sample from each business\n",
    "train_sample = pd.DataFrame(columns=train_comp.columns)\n",
    "for i in list(train_label['business_id']):\n",
    "    temp_df = train_comp[train_comp.business_id == i].sample(np.minimum(10, len(train_comp[train_comp.business_id == i])))\n",
    "    train_sample = train_sample.append(temp_df)"
   ]
  },
  {
   "cell_type": "code",
   "execution_count": 9,
   "id": "2390b855",
   "metadata": {},
   "outputs": [
    {
     "data": {
      "text/html": [
       "<div>\n",
       "<style scoped>\n",
       "    .dataframe tbody tr th:only-of-type {\n",
       "        vertical-align: middle;\n",
       "    }\n",
       "\n",
       "    .dataframe tbody tr th {\n",
       "        vertical-align: top;\n",
       "    }\n",
       "\n",
       "    .dataframe thead th {\n",
       "        text-align: right;\n",
       "    }\n",
       "</style>\n",
       "<table border=\"1\" class=\"dataframe\">\n",
       "  <thead>\n",
       "    <tr style=\"text-align: right;\">\n",
       "      <th></th>\n",
       "      <th>features</th>\n",
       "      <th>photo_id</th>\n",
       "      <th>business_id</th>\n",
       "      <th>labels</th>\n",
       "    </tr>\n",
       "  </thead>\n",
       "  <tbody>\n",
       "    <tr>\n",
       "      <th>0</th>\n",
       "      <td>[[[[197. 158. 103.], [195. 150.  93.], [185. 1...</td>\n",
       "      <td>134375</td>\n",
       "      <td>1000</td>\n",
       "      <td>[1, 2, 3, 4, 5, 6, 7]</td>\n",
       "    </tr>\n",
       "    <tr>\n",
       "      <th>1</th>\n",
       "      <td>[[[[ 86.  95. 110.], [ 86. 102. 118.], [103. 1...</td>\n",
       "      <td>360032</td>\n",
       "      <td>1000</td>\n",
       "      <td>[1, 2, 3, 4, 5, 6, 7]</td>\n",
       "    </tr>\n",
       "    <tr>\n",
       "      <th>2</th>\n",
       "      <td>[[[[80. 73. 57.], [81. 74. 58.], [82. 75. 59.]...</td>\n",
       "      <td>213116</td>\n",
       "      <td>1000</td>\n",
       "      <td>[1, 2, 3, 4, 5, 6, 7]</td>\n",
       "    </tr>\n",
       "    <tr>\n",
       "      <th>3</th>\n",
       "      <td>[[[[137. 157. 168.], [151. 170. 187.], [179. 1...</td>\n",
       "      <td>253623</td>\n",
       "      <td>1000</td>\n",
       "      <td>[1, 2, 3, 4, 5, 6, 7]</td>\n",
       "    </tr>\n",
       "    <tr>\n",
       "      <th>4</th>\n",
       "      <td>[[[[39. 25. 40.], [36. 28. 43.], [27. 25. 39.]...</td>\n",
       "      <td>368729</td>\n",
       "      <td>1000</td>\n",
       "      <td>[1, 2, 3, 4, 5, 6, 7]</td>\n",
       "    </tr>\n",
       "    <tr>\n",
       "      <th>...</th>\n",
       "      <td>...</td>\n",
       "      <td>...</td>\n",
       "      <td>...</td>\n",
       "      <td>...</td>\n",
       "    </tr>\n",
       "    <tr>\n",
       "      <th>19898</th>\n",
       "      <td>[[[[153.  80.  35.], [147.  89.  49.], [148.  ...</td>\n",
       "      <td>42254</td>\n",
       "      <td>999</td>\n",
       "      <td>[1, 2, 5, 6, 7]</td>\n",
       "    </tr>\n",
       "    <tr>\n",
       "      <th>19899</th>\n",
       "      <td>[[[[32. 31. 39.], [32. 31. 37.], [35. 34. 39.]...</td>\n",
       "      <td>411563</td>\n",
       "      <td>999</td>\n",
       "      <td>[1, 2, 5, 6, 7]</td>\n",
       "    </tr>\n",
       "    <tr>\n",
       "      <th>19900</th>\n",
       "      <td>[[[[5. 3. 6.], [6. 4. 7.], [4. 2. 5.], [4. 2. ...</td>\n",
       "      <td>451965</td>\n",
       "      <td>999</td>\n",
       "      <td>[1, 2, 5, 6, 7]</td>\n",
       "    </tr>\n",
       "    <tr>\n",
       "      <th>19901</th>\n",
       "      <td>[[[[223. 208. 205.], [224. 209. 202.], [226. 2...</td>\n",
       "      <td>123397</td>\n",
       "      <td>999</td>\n",
       "      <td>[1, 2, 5, 6, 7]</td>\n",
       "    </tr>\n",
       "    <tr>\n",
       "      <th>19902</th>\n",
       "      <td>[[[[156. 167. 159.], [152. 163. 155.], [152. 1...</td>\n",
       "      <td>314021</td>\n",
       "      <td>999</td>\n",
       "      <td>[1, 2, 5, 6, 7]</td>\n",
       "    </tr>\n",
       "  </tbody>\n",
       "</table>\n",
       "<p>19903 rows × 4 columns</p>\n",
       "</div>"
      ],
      "text/plain": [
       "                                                features photo_id business_id  \\\n",
       "0      [[[[197. 158. 103.], [195. 150.  93.], [185. 1...   134375        1000   \n",
       "1      [[[[ 86.  95. 110.], [ 86. 102. 118.], [103. 1...   360032        1000   \n",
       "2      [[[[80. 73. 57.], [81. 74. 58.], [82. 75. 59.]...   213116        1000   \n",
       "3      [[[[137. 157. 168.], [151. 170. 187.], [179. 1...   253623        1000   \n",
       "4      [[[[39. 25. 40.], [36. 28. 43.], [27. 25. 39.]...   368729        1000   \n",
       "...                                                  ...      ...         ...   \n",
       "19898  [[[[153.  80.  35.], [147.  89.  49.], [148.  ...    42254         999   \n",
       "19899  [[[[32. 31. 39.], [32. 31. 37.], [35. 34. 39.]...   411563         999   \n",
       "19900  [[[[5. 3. 6.], [6. 4. 7.], [4. 2. 5.], [4. 2. ...   451965         999   \n",
       "19901  [[[[223. 208. 205.], [224. 209. 202.], [226. 2...   123397         999   \n",
       "19902  [[[[156. 167. 159.], [152. 163. 155.], [152. 1...   314021         999   \n",
       "\n",
       "                      labels  \n",
       "0      [1, 2, 3, 4, 5, 6, 7]  \n",
       "1      [1, 2, 3, 4, 5, 6, 7]  \n",
       "2      [1, 2, 3, 4, 5, 6, 7]  \n",
       "3      [1, 2, 3, 4, 5, 6, 7]  \n",
       "4      [1, 2, 3, 4, 5, 6, 7]  \n",
       "...                      ...  \n",
       "19898        [1, 2, 5, 6, 7]  \n",
       "19899        [1, 2, 5, 6, 7]  \n",
       "19900        [1, 2, 5, 6, 7]  \n",
       "19901        [1, 2, 5, 6, 7]  \n",
       "19902        [1, 2, 5, 6, 7]  \n",
       "\n",
       "[19903 rows x 4 columns]"
      ]
     },
     "execution_count": 9,
     "metadata": {},
     "output_type": "execute_result"
    }
   ],
   "source": [
    "train_sample = train_sample.reset_index()\n",
    "train_sample.drop('index', axis=1, inplace=True)\n",
    "train_sample"
   ]
  },
  {
   "cell_type": "markdown",
   "id": "ee03b056",
   "metadata": {},
   "source": [
    "### Modeling"
   ]
  },
  {
   "cell_type": "code",
   "execution_count": 11,
   "id": "c75bfcd7",
   "metadata": {},
   "outputs": [
    {
     "data": {
      "text/plain": [
       "(19903, 2)"
      ]
     },
     "execution_count": 11,
     "metadata": {},
     "output_type": "execute_result"
    }
   ],
   "source": [
    "train_df = train_sample[['features', 'labels']]\n",
    "train_df.shape"
   ]
  },
  {
   "cell_type": "code",
   "execution_count": 13,
   "id": "a3edbbd9",
   "metadata": {},
   "outputs": [
    {
     "name": "stderr",
     "output_type": "stream",
     "text": [
      "/var/folders/zy/490c7q0j7c72hr16lfsxvg5w0000gn/T/ipykernel_37371/2897397416.py:2: SettingWithCopyWarning: \n",
      "A value is trying to be set on a copy of a slice from a DataFrame.\n",
      "Try using .loc[row_indexer,col_indexer] = value instead\n",
      "\n",
      "See the caveats in the documentation: https://pandas.pydata.org/pandas-docs/stable/user_guide/indexing.html#returning-a-view-versus-a-copy\n",
      "  train_df['labels'] = train_df['labels'].apply(lambda x: [i for i in x if str(i) != \"nan\"])\n"
     ]
    }
   ],
   "source": [
    "# Remove nan values\n",
    "train_df['labels'] = train_df['labels'].apply(lambda x: [i for i in x if str(i) != \"nan\"])"
   ]
  },
  {
   "cell_type": "code",
   "execution_count": 14,
   "id": "8d67303b",
   "metadata": {},
   "outputs": [],
   "source": [
    "train_df.to_pickle('train_df.csv')"
   ]
  },
  {
   "cell_type": "code",
   "execution_count": 4,
   "id": "758f1a0b",
   "metadata": {},
   "outputs": [],
   "source": [
    "import pickle as pickle\n",
    "with open('train_df.csv', \"rb\") as fh:\n",
    "      train_df = pickle.load(fh)"
   ]
  },
  {
   "cell_type": "code",
   "execution_count": 5,
   "id": "03a6681c",
   "metadata": {},
   "outputs": [
    {
     "name": "stdout",
     "output_type": "stream",
     "text": [
      "X:  (19903, 1, 120, 120, 3)\n",
      "y:  (19903, 9)\n"
     ]
    }
   ],
   "source": [
    "# One-hot encoding of labels\n",
    "from sklearn.preprocessing import MultiLabelBinarizer\n",
    "\n",
    "# Process train & test set into an array format\n",
    "X = np.array([x for x in train_df['features']])\n",
    "X = np.asarray(X).astype(np.float32)\n",
    "\n",
    "y = train_df['labels']\n",
    "mlb = MultiLabelBinarizer()\n",
    "y = mlb.fit_transform(y)\n",
    "\n",
    "# Check shape of array-format train & test set \n",
    "print(\"X: \", X.shape)\n",
    "print(\"y: \", y.shape)"
   ]
  },
  {
   "cell_type": "code",
   "execution_count": 6,
   "id": "d84eee3e",
   "metadata": {},
   "outputs": [
    {
     "data": {
      "text/plain": [
       "array(['0', '1', '2', '3', '4', '5', '6', '7', '8'], dtype=object)"
      ]
     },
     "execution_count": 6,
     "metadata": {},
     "output_type": "execute_result"
    }
   ],
   "source": [
    "mlb.classes_"
   ]
  },
  {
   "cell_type": "code",
   "execution_count": 7,
   "id": "489455e5",
   "metadata": {},
   "outputs": [],
   "source": [
    "from sklearn.model_selection import train_test_split\n",
    "X_train, X_val, y_train, y_val = train_test_split(X, y, test_size = 0.2, random_state=42)"
   ]
  },
  {
   "cell_type": "code",
   "execution_count": 8,
   "id": "4ae3ee9a",
   "metadata": {},
   "outputs": [],
   "source": [
    "X_train = X_train.astype('float32')\n",
    "X_val = X_val.astype('float32')\n",
    "X_train /= 120\n",
    "X_val /= 120\n",
    "\n",
    "X_train = X_train.reshape(X_train.shape[0], X_train.shape[2], X_train.shape[3], X_train.shape[4])\n",
    "X_val = X_val.reshape(X_val.shape[0], X_val.shape[2], X_val.shape[3], X_val.shape[4])"
   ]
  },
  {
   "cell_type": "code",
   "execution_count": 9,
   "id": "fef13e32",
   "metadata": {},
   "outputs": [
    {
     "name": "stdout",
     "output_type": "stream",
     "text": [
      "X_train:  (15922, 120, 120, 3)\n",
      "y_train:  (15922, 9)\n"
     ]
    }
   ],
   "source": [
    "print(\"X_train: \", X_train.shape)\n",
    "print(\"y_train: \", y_train.shape)"
   ]
  },
  {
   "cell_type": "code",
   "execution_count": 10,
   "id": "73c5a1c6",
   "metadata": {},
   "outputs": [],
   "source": [
    "epochs = 100\n",
    "batch_size = 64\n",
    "n_outputs = y_train.shape[1]"
   ]
  },
  {
   "cell_type": "markdown",
   "id": "c110d2be",
   "metadata": {},
   "source": [
    "### MLP"
   ]
  },
  {
   "cell_type": "code",
   "execution_count": 42,
   "id": "ad375d13",
   "metadata": {},
   "outputs": [
    {
     "name": "stdout",
     "output_type": "stream",
     "text": [
      "Model: \"sequential_4\"\n",
      "_________________________________________________________________\n",
      " Layer (type)                Output Shape              Param #   \n",
      "=================================================================\n",
      " flatten_4 (Flatten)         (None, 43200)             0         \n",
      "                                                                 \n",
      " dense_39 (Dense)            (None, 1024)              44237824  \n",
      "                                                                 \n",
      " dense_40 (Dense)            (None, 1024)              1049600   \n",
      "                                                                 \n",
      " dense_41 (Dense)            (None, 1024)              1049600   \n",
      "                                                                 \n",
      " dropout_12 (Dropout)        (None, 1024)              0         \n",
      "                                                                 \n",
      " dense_42 (Dense)            (None, 256)               262400    \n",
      "                                                                 \n",
      " dense_43 (Dense)            (None, 256)               65792     \n",
      "                                                                 \n",
      " dense_44 (Dense)            (None, 256)               65792     \n",
      "                                                                 \n",
      " dropout_13 (Dropout)        (None, 256)               0         \n",
      "                                                                 \n",
      " dense_45 (Dense)            (None, 256)               65792     \n",
      "                                                                 \n",
      " dense_46 (Dense)            (None, 256)               65792     \n",
      "                                                                 \n",
      " dense_47 (Dense)            (None, 256)               65792     \n",
      "                                                                 \n",
      " dropout_14 (Dropout)        (None, 256)               0         \n",
      "                                                                 \n",
      " dense_48 (Dense)            (None, 1024)              263168    \n",
      "                                                                 \n",
      " dense_49 (Dense)            (None, 1024)              1049600   \n",
      "                                                                 \n",
      " dense_50 (Dense)            (None, 1024)              1049600   \n",
      "                                                                 \n",
      " dropout_15 (Dropout)        (None, 1024)              0         \n",
      "                                                                 \n",
      " dense_51 (Dense)            (None, 9)                 9225      \n",
      "                                                                 \n",
      "=================================================================\n",
      "Total params: 49,299,977\n",
      "Trainable params: 49,299,977\n",
      "Non-trainable params: 0\n",
      "_________________________________________________________________\n"
     ]
    }
   ],
   "source": [
    "from keras.regularizers import l2\n",
    "model = Sequential()\n",
    "model.add(Flatten(input_shape=(120, 120, 3)))\n",
    "model.add(Dense(1024, activation='relu', kernel_regularizer=l2(1e-4)))\n",
    "model.add(Dense(1024, activation='relu', kernel_regularizer=l2(1e-4)))\n",
    "model.add(Dense(1024, activation='relu', kernel_regularizer=l2(1e-4)))\n",
    "model.add(Dropout(0.25))\n",
    "model.add(Dense(256, activation='relu', kernel_regularizer=l2(1e-4)))\n",
    "model.add(Dense(256, activation='relu', kernel_regularizer=l2(1e-4)))\n",
    "model.add(Dense(256, activation='relu', kernel_regularizer=l2(1e-4)))\n",
    "model.add(Dropout(0.25))\n",
    "model.add(Dense(256, activation='relu', kernel_regularizer=l2(1e-4)))\n",
    "model.add(Dense(256, activation='relu', kernel_regularizer=l2(1e-4)))\n",
    "model.add(Dense(256, activation='relu', kernel_regularizer=l2(1e-4)))\n",
    "model.add(Dropout(0.25))\n",
    "model.add(Dense(1024, activation='relu', kernel_regularizer=l2(1e-4)))\n",
    "model.add(Dense(1024, activation='relu', kernel_regularizer=l2(1e-4)))\n",
    "model.add(Dense(1024, activation='relu', kernel_regularizer=l2(1e-4)))\n",
    "model.add(Dropout(0.25))\n",
    "model.add(Dense(n_outputs, activation='sigmoid'))\n",
    "\n",
    "model.summary()"
   ]
  },
  {
   "cell_type": "code",
   "execution_count": 43,
   "id": "39025f18",
   "metadata": {},
   "outputs": [],
   "source": [
    "from tensorflow.keras.optimizers import SGD\n",
    "from tensorflow.keras.optimizers import Adam\n",
    "sgd = SGD(lr=0.0001, decay=1e-6, momentum=0.9, nesterov=True)\n",
    "adam = Adam(lr=0.00001, decay=1e-6)\n",
    "model.compile(loss='binary_crossentropy', optimizer=adam, metrics=['binary_accuracy'])"
   ]
  },
  {
   "cell_type": "code",
   "execution_count": 44,
   "id": "b936961f",
   "metadata": {
    "scrolled": true
   },
   "outputs": [
    {
     "name": "stdout",
     "output_type": "stream",
     "text": [
      "Epoch 1/100\n",
      "249/249 [==============================] - 24s 95ms/step - loss: 1.4520 - binary_accuracy: 0.6120 - val_loss: 1.4227 - val_binary_accuracy: 0.6325\n",
      "Epoch 2/100\n",
      "249/249 [==============================] - 24s 97ms/step - loss: 1.3925 - binary_accuracy: 0.6265 - val_loss: 1.3602 - val_binary_accuracy: 0.6351\n",
      "Epoch 3/100\n",
      "249/249 [==============================] - 24s 98ms/step - loss: 1.3425 - binary_accuracy: 0.6338 - val_loss: 1.3161 - val_binary_accuracy: 0.6434\n",
      "Epoch 4/100\n",
      "249/249 [==============================] - 24s 95ms/step - loss: 1.3037 - binary_accuracy: 0.6404 - val_loss: 1.2858 - val_binary_accuracy: 0.6417\n",
      "Epoch 5/100\n",
      "249/249 [==============================] - 24s 95ms/step - loss: 1.2712 - binary_accuracy: 0.6419 - val_loss: 1.2536 - val_binary_accuracy: 0.6448\n",
      "Epoch 6/100\n",
      "249/249 [==============================] - 24s 94ms/step - loss: 1.2416 - binary_accuracy: 0.6457 - val_loss: 1.2286 - val_binary_accuracy: 0.6470\n",
      "Epoch 7/100\n",
      "249/249 [==============================] - 24s 95ms/step - loss: 1.2169 - binary_accuracy: 0.6456 - val_loss: 1.2067 - val_binary_accuracy: 0.6455\n",
      "Epoch 8/100\n",
      "249/249 [==============================] - 24s 96ms/step - loss: 1.1956 - binary_accuracy: 0.6478 - val_loss: 1.1859 - val_binary_accuracy: 0.6481\n",
      "Epoch 9/100\n",
      "249/249 [==============================] - 23s 94ms/step - loss: 1.1742 - binary_accuracy: 0.6511 - val_loss: 1.1775 - val_binary_accuracy: 0.6389\n",
      "Epoch 10/100\n",
      "249/249 [==============================] - 23s 94ms/step - loss: 1.1560 - binary_accuracy: 0.6507 - val_loss: 1.1543 - val_binary_accuracy: 0.6439\n",
      "Epoch 11/100\n",
      "249/249 [==============================] - 23s 94ms/step - loss: 1.1375 - binary_accuracy: 0.6544 - val_loss: 1.1390 - val_binary_accuracy: 0.6430\n",
      "Epoch 12/100\n",
      "249/249 [==============================] - 24s 95ms/step - loss: 1.1214 - binary_accuracy: 0.6550 - val_loss: 1.1352 - val_binary_accuracy: 0.6306\n",
      "Epoch 13/100\n",
      "249/249 [==============================] - 24s 95ms/step - loss: 1.1080 - binary_accuracy: 0.6560 - val_loss: 1.1127 - val_binary_accuracy: 0.6493\n",
      "Epoch 14/100\n",
      "249/249 [==============================] - 24s 96ms/step - loss: 1.0940 - binary_accuracy: 0.6573 - val_loss: 1.1031 - val_binary_accuracy: 0.6449\n",
      "Epoch 15/100\n",
      "249/249 [==============================] - 24s 95ms/step - loss: 1.0796 - binary_accuracy: 0.6591 - val_loss: 1.0891 - val_binary_accuracy: 0.6480\n",
      "Epoch 16/100\n",
      "249/249 [==============================] - 24s 95ms/step - loss: 1.0646 - binary_accuracy: 0.6628 - val_loss: 1.0808 - val_binary_accuracy: 0.6445\n",
      "Epoch 17/100\n",
      "249/249 [==============================] - 24s 95ms/step - loss: 1.0501 - binary_accuracy: 0.6672 - val_loss: 1.0730 - val_binary_accuracy: 0.6442\n",
      "Epoch 18/100\n",
      "249/249 [==============================] - 23s 94ms/step - loss: 1.0395 - binary_accuracy: 0.6672 - val_loss: 1.0744 - val_binary_accuracy: 0.6386\n",
      "Epoch 19/100\n",
      "249/249 [==============================] - 24s 95ms/step - loss: 1.0271 - binary_accuracy: 0.6705 - val_loss: 1.0675 - val_binary_accuracy: 0.6370\n",
      "Epoch 20/100\n",
      "249/249 [==============================] - 24s 96ms/step - loss: 1.0128 - binary_accuracy: 0.6746 - val_loss: 1.0578 - val_binary_accuracy: 0.6366\n",
      "Epoch 21/100\n",
      "249/249 [==============================] - 24s 95ms/step - loss: 1.0012 - binary_accuracy: 0.6782 - val_loss: 1.0464 - val_binary_accuracy: 0.6363\n",
      "Epoch 22/100\n",
      "249/249 [==============================] - 24s 98ms/step - loss: 0.9890 - binary_accuracy: 0.6826 - val_loss: 1.0480 - val_binary_accuracy: 0.6362\n",
      "Epoch 23/100\n",
      "249/249 [==============================] - 24s 97ms/step - loss: 0.9794 - binary_accuracy: 0.6837 - val_loss: 1.0420 - val_binary_accuracy: 0.6388\n",
      "Epoch 24/100\n",
      "249/249 [==============================] - 24s 97ms/step - loss: 0.9653 - binary_accuracy: 0.6897 - val_loss: 1.0507 - val_binary_accuracy: 0.6286\n",
      "Epoch 25/100\n",
      "249/249 [==============================] - 24s 97ms/step - loss: 0.9537 - binary_accuracy: 0.6933 - val_loss: 1.0306 - val_binary_accuracy: 0.6328\n",
      "Epoch 26/100\n",
      "249/249 [==============================] - 24s 96ms/step - loss: 0.9443 - binary_accuracy: 0.6970 - val_loss: 1.0397 - val_binary_accuracy: 0.6256\n",
      "Epoch 27/100\n",
      "249/249 [==============================] - 25s 99ms/step - loss: 0.9300 - binary_accuracy: 0.7032 - val_loss: 1.0322 - val_binary_accuracy: 0.6311\n",
      "Epoch 28/100\n",
      "249/249 [==============================] - 24s 96ms/step - loss: 0.9149 - binary_accuracy: 0.7100 - val_loss: 1.0406 - val_binary_accuracy: 0.6158\n",
      "Epoch 29/100\n",
      "249/249 [==============================] - 24s 95ms/step - loss: 0.9093 - binary_accuracy: 0.7123 - val_loss: 1.0307 - val_binary_accuracy: 0.6243\n",
      "Epoch 30/100\n",
      "249/249 [==============================] - 24s 96ms/step - loss: 0.8974 - binary_accuracy: 0.7170 - val_loss: 1.0138 - val_binary_accuracy: 0.6363\n",
      "Epoch 31/100\n",
      "249/249 [==============================] - 24s 96ms/step - loss: 0.8808 - binary_accuracy: 0.7269 - val_loss: 1.0444 - val_binary_accuracy: 0.6210\n",
      "Epoch 32/100\n",
      "249/249 [==============================] - 24s 96ms/step - loss: 0.8734 - binary_accuracy: 0.7285 - val_loss: 1.0306 - val_binary_accuracy: 0.6231\n",
      "Epoch 33/100\n",
      "249/249 [==============================] - 24s 95ms/step - loss: 0.8612 - binary_accuracy: 0.7339 - val_loss: 1.0343 - val_binary_accuracy: 0.6283\n",
      "Epoch 34/100\n",
      "249/249 [==============================] - 23s 94ms/step - loss: 0.8488 - binary_accuracy: 0.7395 - val_loss: 1.0698 - val_binary_accuracy: 0.6138\n",
      "Epoch 35/100\n",
      "249/249 [==============================] - 24s 95ms/step - loss: 0.8406 - binary_accuracy: 0.7427 - val_loss: 1.0619 - val_binary_accuracy: 0.6156\n",
      "Epoch 36/100\n",
      "249/249 [==============================] - 24s 95ms/step - loss: 0.8336 - binary_accuracy: 0.7464 - val_loss: 1.0417 - val_binary_accuracy: 0.6188\n",
      "Epoch 37/100\n",
      "249/249 [==============================] - 24s 95ms/step - loss: 0.8207 - binary_accuracy: 0.7494 - val_loss: 1.0495 - val_binary_accuracy: 0.6183\n",
      "Epoch 38/100\n",
      "249/249 [==============================] - 24s 94ms/step - loss: 0.8088 - binary_accuracy: 0.7559 - val_loss: 1.0706 - val_binary_accuracy: 0.6045\n",
      "Epoch 39/100\n",
      "249/249 [==============================] - 24s 95ms/step - loss: 0.8011 - binary_accuracy: 0.7596 - val_loss: 1.0868 - val_binary_accuracy: 0.6149\n",
      "Epoch 40/100\n",
      "249/249 [==============================] - 24s 95ms/step - loss: 0.7940 - binary_accuracy: 0.7609 - val_loss: 1.0795 - val_binary_accuracy: 0.6121\n"
     ]
    }
   ],
   "source": [
    "early_stopping_cb = tf.keras.callbacks.EarlyStopping(monitor='val_loss', patience=10, restore_best_weights=True)\n",
    "history_mlp = model.fit(X_train, y_train, \n",
    "                          batch_size=batch_size, \n",
    "                          epochs=epochs,\n",
    "                          validation_data=(X_val, y_val),\n",
    "                          callbacks=early_stopping_cb)"
   ]
  },
  {
   "cell_type": "code",
   "execution_count": 45,
   "id": "79bc1083",
   "metadata": {},
   "outputs": [
    {
     "data": {
      "image/png": "[encoded data removed]",
      "text/plain": [
       "<Figure size 1080x360 with 2 Axes>"
      ]
     },
     "metadata": {
      "needs_background": "light"
     },
     "output_type": "display_data"
    }
   ],
   "source": [
    "history(history_mlp)"
   ]
  },
  {
   "cell_type": "code",
   "execution_count": 46,
   "id": "2324f38e",
   "metadata": {},
   "outputs": [],
   "source": [
    "mlp_predictions = (model.predict(X_val) >= 0.5).astype(int)"
   ]
  },
  {
   "cell_type": "code",
   "execution_count": 47,
   "id": "f867305e",
   "metadata": {},
   "outputs": [
    {
     "name": "stdout",
     "output_type": "stream",
     "text": [
      "F1 score: 0.61143\n"
     ]
    }
   ],
   "source": [
    "# F1 Score\n",
    "mlp_score = f1_score(y_val, mlp_predictions)\n",
    "print('F1 score: %.5f' % mlp_score)"
   ]
  },
  {
   "cell_type": "markdown",
   "id": "af6cf208",
   "metadata": {},
   "source": [
    "### Base CNN"
   ]
  },
  {
   "cell_type": "code",
   "execution_count": 15,
   "id": "97890814",
   "metadata": {},
   "outputs": [
    {
     "name": "stdout",
     "output_type": "stream",
     "text": [
      "Model: \"sequential_1\"\n",
      "_________________________________________________________________\n",
      " Layer (type)                Output Shape              Param #   \n",
      "=================================================================\n",
      " conv2d_8 (Conv2D)           (None, 120, 120, 64)      1792      \n",
      "                                                                 \n",
      " conv2d_9 (Conv2D)           (None, 120, 120, 64)      36928     \n",
      "                                                                 \n",
      " max_pooling2d_2 (MaxPooling  (None, 60, 60, 64)       0         \n",
      " 2D)                                                             \n",
      "                                                                 \n",
      " batch_normalization_2 (Batc  (None, 60, 60, 64)       256       \n",
      " hNormalization)                                                 \n",
      "                                                                 \n",
      " conv2d_10 (Conv2D)          (None, 60, 60, 128)       73856     \n",
      "                                                                 \n",
      " conv2d_11 (Conv2D)          (None, 60, 60, 128)       147584    \n",
      "                                                                 \n",
      " flatten_2 (Flatten)         (None, 460800)            0         \n",
      "                                                                 \n",
      " dropout_2 (Dropout)         (None, 460800)            0         \n",
      "                                                                 \n",
      " dense_2 (Dense)             (None, 64)                29491264  \n",
      "                                                                 \n",
      " dense_3 (Dense)             (None, 9)                 585       \n",
      "                                                                 \n",
      "=================================================================\n",
      "Total params: 29,752,265\n",
      "Trainable params: 29,752,137\n",
      "Non-trainable params: 128\n",
      "_________________________________________________________________\n"
     ]
    },
    {
     "name": "stderr",
     "output_type": "stream",
     "text": [
      "/Users/WilliamDai/miniforge3/envs/TFmacOS/lib/python3.9/site-packages/keras/optimizer_v2/gradient_descent.py:102: UserWarning: The `lr` argument is deprecated, use `learning_rate` instead.\n",
      "  super(SGD, self).__init__(name, **kwargs)\n",
      "/Users/WilliamDai/miniforge3/envs/TFmacOS/lib/python3.9/site-packages/keras/optimizer_v2/adam.py:105: UserWarning: The `lr` argument is deprecated, use `learning_rate` instead.\n",
      "  super(Adam, self).__init__(name, **kwargs)\n"
     ]
    }
   ],
   "source": [
    "from tensorflow.keras.optimizers import SGD\n",
    "from tensorflow.keras.optimizers import Adam\n",
    "sgd = SGD(lr=0.0001, decay=1e-6, momentum=0.9, nesterov=True)\n",
    "adam = Adam(lr=0.00001, decay=1e-6)\n",
    "cnn = Sequential([\n",
    "    Conv2D(64, (3,3), activation='relu', padding='same', input_shape=(120, 120, 3)),\n",
    "    Conv2D(64, (3,3), activation='relu', padding='same'),\n",
    "    MaxPooling2D(2,2),\n",
    "    BatchNormalization(),\n",
    "    Conv2D(128, (3,3), activation='relu', padding='same'),\n",
    "    Conv2D(128, (3,3), activation='relu', padding='same'),\n",
    "    Flatten(),\n",
    "    Dropout(0.25),\n",
    "    Dense(64, activation='relu', kernel_regularizer=l2(1e-4)),\n",
    "    Dense(n_outputs, activation='sigmoid')\n",
    "])\n",
    "\n",
    "cnn.compile(optimizer = sgd, loss='binary_crossentropy', metrics=['binary_accuracy'])\n",
    "\n",
    "cnn.summary()"
   ]
  },
  {
   "cell_type": "code",
   "execution_count": 19,
   "id": "f66bacc9",
   "metadata": {
    "scrolled": true
   },
   "outputs": [
    {
     "name": "stdout",
     "output_type": "stream",
     "text": [
      "Epoch 1/100\n"
     ]
    },
    {
     "name": "stderr",
     "output_type": "stream",
     "text": [
      "2022-05-31 13:24:26.998230: W tensorflow/core/platform/profile_utils/cpu_utils.cc:128] Failed to get CPU frequency: 0 Hz\n"
     ]
    },
    {
     "name": "stdout",
     "output_type": "stream",
     "text": [
      "249/249 [==============================] - 394s 2s/step - loss: 0.6506 - binary_accuracy: 0.6347 - val_loss: 0.6631 - val_binary_accuracy: 0.6445\n",
      "Epoch 2/100\n",
      "249/249 [==============================] - 407s 2s/step - loss: 0.6336 - binary_accuracy: 0.6501 - val_loss: 0.6364 - val_binary_accuracy: 0.6521\n",
      "Epoch 3/100\n",
      "249/249 [==============================] - 410s 2s/step - loss: 0.6265 - binary_accuracy: 0.6579 - val_loss: 0.6235 - val_binary_accuracy: 0.6573\n",
      "Epoch 4/100\n",
      "249/249 [==============================] - 406s 2s/step - loss: 0.6213 - binary_accuracy: 0.6619 - val_loss: 0.6223 - val_binary_accuracy: 0.6578\n",
      "Epoch 5/100\n",
      "249/249 [==============================] - 407s 2s/step - loss: 0.6163 - binary_accuracy: 0.6666 - val_loss: 0.6195 - val_binary_accuracy: 0.6613\n",
      "Epoch 6/100\n",
      "249/249 [==============================] - 409s 2s/step - loss: 0.6115 - binary_accuracy: 0.6704 - val_loss: 0.6192 - val_binary_accuracy: 0.6599\n",
      "Epoch 7/100\n",
      "249/249 [==============================] - 399s 2s/step - loss: 0.6079 - binary_accuracy: 0.6743 - val_loss: 0.6165 - val_binary_accuracy: 0.6630\n",
      "Epoch 8/100\n",
      "249/249 [==============================] - 407s 2s/step - loss: 0.6043 - binary_accuracy: 0.6773 - val_loss: 0.6152 - val_binary_accuracy: 0.6633\n",
      "Epoch 9/100\n",
      "249/249 [==============================] - 400s 2s/step - loss: 0.6005 - binary_accuracy: 0.6805 - val_loss: 0.6148 - val_binary_accuracy: 0.6643\n",
      "Epoch 10/100\n",
      "249/249 [==============================] - 406s 2s/step - loss: 0.5962 - binary_accuracy: 0.6851 - val_loss: 0.6151 - val_binary_accuracy: 0.6656\n",
      "Epoch 11/100\n",
      "249/249 [==============================] - 411s 2s/step - loss: 0.5933 - binary_accuracy: 0.6888 - val_loss: 0.6145 - val_binary_accuracy: 0.6653\n",
      "Epoch 12/100\n",
      "249/249 [==============================] - 410s 2s/step - loss: 0.5897 - binary_accuracy: 0.6913 - val_loss: 0.6195 - val_binary_accuracy: 0.6620\n",
      "Epoch 13/100\n",
      "249/249 [==============================] - 401s 2s/step - loss: 0.5863 - binary_accuracy: 0.6938 - val_loss: 0.6126 - val_binary_accuracy: 0.6670\n",
      "Epoch 14/100\n",
      "249/249 [==============================] - 414s 2s/step - loss: 0.5823 - binary_accuracy: 0.6977 - val_loss: 0.6120 - val_binary_accuracy: 0.6698\n",
      "Epoch 15/100\n",
      "249/249 [==============================] - 404s 2s/step - loss: 0.5793 - binary_accuracy: 0.7008 - val_loss: 0.6136 - val_binary_accuracy: 0.6697\n",
      "Epoch 16/100\n",
      "249/249 [==============================] - 397s 2s/step - loss: 0.5755 - binary_accuracy: 0.7046 - val_loss: 0.6110 - val_binary_accuracy: 0.6709\n",
      "Epoch 17/100\n",
      "249/249 [==============================] - 391s 2s/step - loss: 0.5722 - binary_accuracy: 0.7068 - val_loss: 0.6102 - val_binary_accuracy: 0.6691\n",
      "Epoch 18/100\n",
      "249/249 [==============================] - 401s 2s/step - loss: 0.5678 - binary_accuracy: 0.7104 - val_loss: 0.6091 - val_binary_accuracy: 0.6713\n",
      "Epoch 19/100\n",
      "249/249 [==============================] - 404s 2s/step - loss: 0.5642 - binary_accuracy: 0.7138 - val_loss: 0.6155 - val_binary_accuracy: 0.6649\n",
      "Epoch 20/100\n",
      "249/249 [==============================] - 399s 2s/step - loss: 0.5617 - binary_accuracy: 0.7168 - val_loss: 0.6095 - val_binary_accuracy: 0.6710\n",
      "Epoch 21/100\n",
      "249/249 [==============================] - 408s 2s/step - loss: 0.5565 - binary_accuracy: 0.7206 - val_loss: 0.6110 - val_binary_accuracy: 0.6710\n",
      "Epoch 22/100\n",
      "249/249 [==============================] - 399s 2s/step - loss: 0.5542 - binary_accuracy: 0.7214 - val_loss: 0.6119 - val_binary_accuracy: 0.6716\n",
      "Epoch 23/100\n",
      "249/249 [==============================] - 396s 2s/step - loss: 0.5491 - binary_accuracy: 0.7273 - val_loss: 0.6110 - val_binary_accuracy: 0.6712\n",
      "Epoch 24/100\n",
      "249/249 [==============================] - 400s 2s/step - loss: 0.5450 - binary_accuracy: 0.7298 - val_loss: 0.6218 - val_binary_accuracy: 0.6624\n",
      "Epoch 25/100\n",
      "249/249 [==============================] - 391s 2s/step - loss: 0.5411 - binary_accuracy: 0.7334 - val_loss: 0.6131 - val_binary_accuracy: 0.6711\n",
      "Epoch 26/100\n",
      "249/249 [==============================] - 389s 2s/step - loss: 0.5372 - binary_accuracy: 0.7365 - val_loss: 0.6103 - val_binary_accuracy: 0.6706\n",
      "Epoch 27/100\n",
      "249/249 [==============================] - 391s 2s/step - loss: 0.5325 - binary_accuracy: 0.7408 - val_loss: 0.6304 - val_binary_accuracy: 0.6584\n",
      "Epoch 28/100\n",
      "249/249 [==============================] - 392s 2s/step - loss: 0.5290 - binary_accuracy: 0.7428 - val_loss: 0.6147 - val_binary_accuracy: 0.6708\n"
     ]
    }
   ],
   "source": [
    "early_stopping_cb = EarlyStopping(monitor='val_loss', patience=10, restore_best_weights=True)\n",
    "history_cnn = cnn.fit(X_train, y_train, \n",
    "                      batch_size=batch_size, \n",
    "                      epochs=epochs,\n",
    "                      validation_data=(X_val, y_val),\n",
    "                      callbacks=early_stopping_cb)"
   ]
  },
  {
   "cell_type": "code",
   "execution_count": 20,
   "id": "9b526b9f",
   "metadata": {},
   "outputs": [
    {
     "data": {
      "image/png": "[encoded data removed]",
      "text/plain": [
       "<Figure size 1080x360 with 2 Axes>"
      ]
     },
     "metadata": {
      "needs_background": "light"
     },
     "output_type": "display_data"
    }
   ],
   "source": [
    "history(history_cnn)"
   ]
  },
  {
   "cell_type": "code",
   "execution_count": 21,
   "id": "90c11187",
   "metadata": {},
   "outputs": [],
   "source": [
    "cnn_predictions = (cnn.predict(X_val) >= 0.5).astype(int)"
   ]
  },
  {
   "cell_type": "code",
   "execution_count": 22,
   "id": "973d34a0",
   "metadata": {},
   "outputs": [
    {
     "name": "stdout",
     "output_type": "stream",
     "text": [
      "F1 score: 0.65265\n"
     ]
    }
   ],
   "source": [
    "# F1 Score\n",
    "cnn_score = f1_score(y_val, cnn_predictions)\n",
    "print('F1 score: %.5f' % cnn_score)"
   ]
  },
  {
   "cell_type": "code",
   "execution_count": null,
   "id": "47998423",
   "metadata": {},
   "outputs": [],
   "source": []
  },
  {
   "cell_type": "code",
   "execution_count": null,
   "id": "c1f6840c",
   "metadata": {},
   "outputs": [],
   "source": []
  }
 ],
 "metadata": {
  "kernelspec": {
   "display_name": "Python 3 (ipykernel)",
   "language": "python",
   "name": "python3"
  },
  "language_info": {
   "codemirror_mode": {
    "name": "ipython",
    "version": 3
   },
   "file_extension": ".py",
   "mimetype": "text/x-python",
   "name": "python",
   "nbconvert_exporter": "python",
   "pygments_lexer": "ipython3",
   "version": "3.9.12"
  }
 },
 "nbformat": 4,
 "nbformat_minor": 5
}
