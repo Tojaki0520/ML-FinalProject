{
 "cells": [
  {
   "cell_type": "code",
   "execution_count": 1,
   "id": "8f9ca1d1",
   "metadata": {},
   "outputs": [],
   "source": [
    "import pandas as pd\n",
    "import numpy as np\n",
    "import matplotlib.pyplot as plt\n",
    "import seaborn as sns\n",
    "%matplotlib inline\n",
    "\n",
    "import random\n",
    "import os\n",
    "import cv2\n",
    "from tqdm import tqdm\n",
    "\n",
    "import tensorflow as tf\n",
    "from tensorflow import keras\n",
    "from keras.models import Sequential\n",
    "from keras.layers import Dense, Dropout, Flatten, Input\n",
    "from keras.layers import Conv2D, MaxPooling2D, BatchNormalization, GlobalAveragePooling2D\n",
    "from keras.models import Model\n",
    "from keras.regularizers import l2\n",
    "from keras.callbacks import EarlyStopping\n",
    "from keras.preprocessing import image"
   ]
  },
  {
   "cell_type": "code",
   "execution_count": 2,
   "id": "bb090517",
   "metadata": {},
   "outputs": [],
   "source": [
    "# Helper function to print loss function and accuracy history\n",
    "def history(model):\n",
    "    plt.figure(figsize = (15, 5) )\n",
    "\n",
    "    plt.subplot(121)\n",
    "    plt.plot(model.history['loss'], color='blue', label='train')\n",
    "    plt.plot(model.history['val_loss'], color='red', label='valid')\n",
    "    plt.legend()\n",
    "    plt.xlabel('Epoch')\n",
    "    plt.ylabel('Loss Function')\n",
    "\n",
    "    plt.subplot(122)\n",
    "    plt.plot(model.history['binary_accuracy'], color = 'blue', label='train')\n",
    "    plt.plot(model.history['val_binary_accuracy'], color='red', label='valid')\n",
    "    plt.legend()\n",
    "    plt.xlabel('Epoch')\n",
    "    plt.ylabel('Accuracy')"
   ]
  },
  {
   "cell_type": "code",
   "execution_count": 3,
   "id": "73d7dfa2",
   "metadata": {},
   "outputs": [],
   "source": [
    "# Helper function to calculate results\n",
    "def true_pos(y_true, y_pred):\n",
    "    return np.sum(y_true * y_pred)\n",
    "\n",
    "\n",
    "def false_pos(y_true, y_pred):\n",
    "    return np.sum(y_true * (1. - y_pred))\n",
    "\n",
    "\n",
    "def false_neg(y_true, y_pred):\n",
    "    return np.sum((1. - y_true) * y_pred)\n",
    "\n",
    "\n",
    "def precision(y_true, y_pred):\n",
    "    return true_pos(y_true, y_pred) / (true_pos(y_true, y_pred) + false_pos(y_true, y_pred))\n",
    "\n",
    "\n",
    "def recall(y_true, y_pred):\n",
    "    return true_pos(y_true, y_pred) / (true_pos(y_true, y_pred) + false_neg(y_true, y_pred))\n",
    "\n",
    "\n",
    "def f1_score(y_true, y_pred):\n",
    "    return 2. / (1. / recall(y_true, y_pred) + 1. / precision(y_true, y_pred))"
   ]
  },
  {
   "cell_type": "markdown",
   "id": "74344316",
   "metadata": {},
   "source": [
    "### Feature Engineering"
   ]
  },
  {
   "cell_type": "code",
   "execution_count": 4,
   "id": "5a765451",
   "metadata": {},
   "outputs": [],
   "source": [
    "import pickle as pickle\n",
    "with open('train_df.csv', \"rb\") as fh:\n",
    "      train_df = pickle.load(fh)"
   ]
  },
  {
   "cell_type": "code",
   "execution_count": 5,
   "id": "7b60f006",
   "metadata": {},
   "outputs": [
    {
     "data": {
      "text/html": [
       "<div>\n",
       "<style scoped>\n",
       "    .dataframe tbody tr th:only-of-type {\n",
       "        vertical-align: middle;\n",
       "    }\n",
       "\n",
       "    .dataframe tbody tr th {\n",
       "        vertical-align: top;\n",
       "    }\n",
       "\n",
       "    .dataframe thead th {\n",
       "        text-align: right;\n",
       "    }\n",
       "</style>\n",
       "<table border=\"1\" class=\"dataframe\">\n",
       "  <thead>\n",
       "    <tr style=\"text-align: right;\">\n",
       "      <th></th>\n",
       "      <th>features</th>\n",
       "      <th>labels</th>\n",
       "    </tr>\n",
       "  </thead>\n",
       "  <tbody>\n",
       "    <tr>\n",
       "      <th>0</th>\n",
       "      <td>[[[[197. 158. 103.], [195. 150.  93.], [185. 1...</td>\n",
       "      <td>[1, 2, 3, 4, 5, 6, 7]</td>\n",
       "    </tr>\n",
       "    <tr>\n",
       "      <th>1</th>\n",
       "      <td>[[[[ 86.  95. 110.], [ 86. 102. 118.], [103. 1...</td>\n",
       "      <td>[1, 2, 3, 4, 5, 6, 7]</td>\n",
       "    </tr>\n",
       "    <tr>\n",
       "      <th>2</th>\n",
       "      <td>[[[[80. 73. 57.], [81. 74. 58.], [82. 75. 59.]...</td>\n",
       "      <td>[1, 2, 3, 4, 5, 6, 7]</td>\n",
       "    </tr>\n",
       "    <tr>\n",
       "      <th>3</th>\n",
       "      <td>[[[[137. 157. 168.], [151. 170. 187.], [179. 1...</td>\n",
       "      <td>[1, 2, 3, 4, 5, 6, 7]</td>\n",
       "    </tr>\n",
       "    <tr>\n",
       "      <th>4</th>\n",
       "      <td>[[[[39. 25. 40.], [36. 28. 43.], [27. 25. 39.]...</td>\n",
       "      <td>[1, 2, 3, 4, 5, 6, 7]</td>\n",
       "    </tr>\n",
       "  </tbody>\n",
       "</table>\n",
       "</div>"
      ],
      "text/plain": [
       "                                            features                 labels\n",
       "0  [[[[197. 158. 103.], [195. 150.  93.], [185. 1...  [1, 2, 3, 4, 5, 6, 7]\n",
       "1  [[[[ 86.  95. 110.], [ 86. 102. 118.], [103. 1...  [1, 2, 3, 4, 5, 6, 7]\n",
       "2  [[[[80. 73. 57.], [81. 74. 58.], [82. 75. 59.]...  [1, 2, 3, 4, 5, 6, 7]\n",
       "3  [[[[137. 157. 168.], [151. 170. 187.], [179. 1...  [1, 2, 3, 4, 5, 6, 7]\n",
       "4  [[[[39. 25. 40.], [36. 28. 43.], [27. 25. 39.]...  [1, 2, 3, 4, 5, 6, 7]"
      ]
     },
     "execution_count": 5,
     "metadata": {},
     "output_type": "execute_result"
    }
   ],
   "source": [
    "train_df.head()"
   ]
  },
  {
   "cell_type": "code",
   "execution_count": 6,
   "id": "94747481",
   "metadata": {},
   "outputs": [],
   "source": [
    "train_df['new_label'] = [[0]]*19903\n",
    "for i in range(len(train_df)):\n",
    "    train_df.at[i, 'new_label'] = [i for i in train_df.loc[i]['labels'] if i in ['0','1','4','5','8']]"
   ]
  },
  {
   "cell_type": "code",
   "execution_count": 7,
   "id": "5d20c997",
   "metadata": {},
   "outputs": [
    {
     "data": {
      "text/html": [
       "<div>\n",
       "<style scoped>\n",
       "    .dataframe tbody tr th:only-of-type {\n",
       "        vertical-align: middle;\n",
       "    }\n",
       "\n",
       "    .dataframe tbody tr th {\n",
       "        vertical-align: top;\n",
       "    }\n",
       "\n",
       "    .dataframe thead th {\n",
       "        text-align: right;\n",
       "    }\n",
       "</style>\n",
       "<table border=\"1\" class=\"dataframe\">\n",
       "  <thead>\n",
       "    <tr style=\"text-align: right;\">\n",
       "      <th></th>\n",
       "      <th>features</th>\n",
       "      <th>labels</th>\n",
       "      <th>new_label</th>\n",
       "    </tr>\n",
       "  </thead>\n",
       "  <tbody>\n",
       "    <tr>\n",
       "      <th>0</th>\n",
       "      <td>[[[[197. 158. 103.], [195. 150.  93.], [185. 1...</td>\n",
       "      <td>[1, 2, 3, 4, 5, 6, 7]</td>\n",
       "      <td>[1, 4, 5]</td>\n",
       "    </tr>\n",
       "    <tr>\n",
       "      <th>1</th>\n",
       "      <td>[[[[ 86.  95. 110.], [ 86. 102. 118.], [103. 1...</td>\n",
       "      <td>[1, 2, 3, 4, 5, 6, 7]</td>\n",
       "      <td>[1, 4, 5]</td>\n",
       "    </tr>\n",
       "    <tr>\n",
       "      <th>2</th>\n",
       "      <td>[[[[80. 73. 57.], [81. 74. 58.], [82. 75. 59.]...</td>\n",
       "      <td>[1, 2, 3, 4, 5, 6, 7]</td>\n",
       "      <td>[1, 4, 5]</td>\n",
       "    </tr>\n",
       "    <tr>\n",
       "      <th>3</th>\n",
       "      <td>[[[[137. 157. 168.], [151. 170. 187.], [179. 1...</td>\n",
       "      <td>[1, 2, 3, 4, 5, 6, 7]</td>\n",
       "      <td>[1, 4, 5]</td>\n",
       "    </tr>\n",
       "    <tr>\n",
       "      <th>4</th>\n",
       "      <td>[[[[39. 25. 40.], [36. 28. 43.], [27. 25. 39.]...</td>\n",
       "      <td>[1, 2, 3, 4, 5, 6, 7]</td>\n",
       "      <td>[1, 4, 5]</td>\n",
       "    </tr>\n",
       "    <tr>\n",
       "      <th>...</th>\n",
       "      <td>...</td>\n",
       "      <td>...</td>\n",
       "      <td>...</td>\n",
       "    </tr>\n",
       "    <tr>\n",
       "      <th>19898</th>\n",
       "      <td>[[[[153.  80.  35.], [147.  89.  49.], [148.  ...</td>\n",
       "      <td>[1, 2, 5, 6, 7]</td>\n",
       "      <td>[1, 5]</td>\n",
       "    </tr>\n",
       "    <tr>\n",
       "      <th>19899</th>\n",
       "      <td>[[[[32. 31. 39.], [32. 31. 37.], [35. 34. 39.]...</td>\n",
       "      <td>[1, 2, 5, 6, 7]</td>\n",
       "      <td>[1, 5]</td>\n",
       "    </tr>\n",
       "    <tr>\n",
       "      <th>19900</th>\n",
       "      <td>[[[[5. 3. 6.], [6. 4. 7.], [4. 2. 5.], [4. 2. ...</td>\n",
       "      <td>[1, 2, 5, 6, 7]</td>\n",
       "      <td>[1, 5]</td>\n",
       "    </tr>\n",
       "    <tr>\n",
       "      <th>19901</th>\n",
       "      <td>[[[[223. 208. 205.], [224. 209. 202.], [226. 2...</td>\n",
       "      <td>[1, 2, 5, 6, 7]</td>\n",
       "      <td>[1, 5]</td>\n",
       "    </tr>\n",
       "    <tr>\n",
       "      <th>19902</th>\n",
       "      <td>[[[[156. 167. 159.], [152. 163. 155.], [152. 1...</td>\n",
       "      <td>[1, 2, 5, 6, 7]</td>\n",
       "      <td>[1, 5]</td>\n",
       "    </tr>\n",
       "  </tbody>\n",
       "</table>\n",
       "<p>19763 rows × 3 columns</p>\n",
       "</div>"
      ],
      "text/plain": [
       "                                                features  \\\n",
       "0      [[[[197. 158. 103.], [195. 150.  93.], [185. 1...   \n",
       "1      [[[[ 86.  95. 110.], [ 86. 102. 118.], [103. 1...   \n",
       "2      [[[[80. 73. 57.], [81. 74. 58.], [82. 75. 59.]...   \n",
       "3      [[[[137. 157. 168.], [151. 170. 187.], [179. 1...   \n",
       "4      [[[[39. 25. 40.], [36. 28. 43.], [27. 25. 39.]...   \n",
       "...                                                  ...   \n",
       "19898  [[[[153.  80.  35.], [147.  89.  49.], [148.  ...   \n",
       "19899  [[[[32. 31. 39.], [32. 31. 37.], [35. 34. 39.]...   \n",
       "19900  [[[[5. 3. 6.], [6. 4. 7.], [4. 2. 5.], [4. 2. ...   \n",
       "19901  [[[[223. 208. 205.], [224. 209. 202.], [226. 2...   \n",
       "19902  [[[[156. 167. 159.], [152. 163. 155.], [152. 1...   \n",
       "\n",
       "                      labels  new_label  \n",
       "0      [1, 2, 3, 4, 5, 6, 7]  [1, 4, 5]  \n",
       "1      [1, 2, 3, 4, 5, 6, 7]  [1, 4, 5]  \n",
       "2      [1, 2, 3, 4, 5, 6, 7]  [1, 4, 5]  \n",
       "3      [1, 2, 3, 4, 5, 6, 7]  [1, 4, 5]  \n",
       "4      [1, 2, 3, 4, 5, 6, 7]  [1, 4, 5]  \n",
       "...                      ...        ...  \n",
       "19898        [1, 2, 5, 6, 7]     [1, 5]  \n",
       "19899        [1, 2, 5, 6, 7]     [1, 5]  \n",
       "19900        [1, 2, 5, 6, 7]     [1, 5]  \n",
       "19901        [1, 2, 5, 6, 7]     [1, 5]  \n",
       "19902        [1, 2, 5, 6, 7]     [1, 5]  \n",
       "\n",
       "[19763 rows x 3 columns]"
      ]
     },
     "execution_count": 7,
     "metadata": {},
     "output_type": "execute_result"
    }
   ],
   "source": [
    "nan_list = []\n",
    "for i in train_df['new_label']:\n",
    "    if i == []:\n",
    "        nan_list.append(False)\n",
    "    else:\n",
    "        nan_list.append(True)\n",
    "train_df = train_df[nan_list]\n",
    "train_df"
   ]
  },
  {
   "cell_type": "code",
   "execution_count": 8,
   "id": "c2721bc0",
   "metadata": {},
   "outputs": [],
   "source": [
    "train_df = train_df[['features', 'new_label']]"
   ]
  },
  {
   "cell_type": "markdown",
   "id": "e56b4b39",
   "metadata": {},
   "source": [
    "### Modeling"
   ]
  },
  {
   "cell_type": "code",
   "execution_count": 9,
   "id": "d78e3562",
   "metadata": {},
   "outputs": [
    {
     "name": "stdout",
     "output_type": "stream",
     "text": [
      "X:  (19763, 1, 120, 120, 3)\n",
      "y:  (19763, 5)\n"
     ]
    }
   ],
   "source": [
    "# One-hot encoding of labels\n",
    "from sklearn.preprocessing import MultiLabelBinarizer\n",
    "\n",
    "# Process train & test set into an array format\n",
    "X = np.array([x for x in train_df['features']])\n",
    "X = np.asarray(X).astype(np.float32)\n",
    "\n",
    "y = train_df['new_label']\n",
    "mlb = MultiLabelBinarizer()\n",
    "y = mlb.fit_transform(y)\n",
    "\n",
    "# Check shape of array-format train & test set \n",
    "print(\"X: \", X.shape)\n",
    "print(\"y: \", y.shape)"
   ]
  },
  {
   "cell_type": "code",
   "execution_count": 10,
   "id": "e184a7d3",
   "metadata": {},
   "outputs": [
    {
     "data": {
      "text/plain": [
       "array(['0', '1', '4', '5', '8'], dtype=object)"
      ]
     },
     "execution_count": 10,
     "metadata": {},
     "output_type": "execute_result"
    }
   ],
   "source": [
    "mlb.classes_"
   ]
  },
  {
   "cell_type": "code",
   "execution_count": 11,
   "id": "50955450",
   "metadata": {},
   "outputs": [],
   "source": [
    "from sklearn.model_selection import train_test_split\n",
    "X_train, X_val, y_train, y_val = train_test_split(X, y, test_size = 0.2, random_state=42)"
   ]
  },
  {
   "cell_type": "code",
   "execution_count": 12,
   "id": "5b1158f3",
   "metadata": {},
   "outputs": [],
   "source": [
    "X_train = X_train.astype('float32')\n",
    "X_val = X_val.astype('float32')\n",
    "X_train /= 120\n",
    "X_val /= 120\n",
    "\n",
    "X_train = X_train.reshape(X_train.shape[0], X_train.shape[2], X_train.shape[3], X_train.shape[4])\n",
    "X_val = X_val.reshape(X_val.shape[0], X_val.shape[2], X_val.shape[3], X_val.shape[4])"
   ]
  },
  {
   "cell_type": "code",
   "execution_count": 13,
   "id": "4219b1db",
   "metadata": {},
   "outputs": [
    {
     "name": "stdout",
     "output_type": "stream",
     "text": [
      "X_train:  (15810, 120, 120, 3)\n",
      "y_train:  (15810, 5)\n"
     ]
    }
   ],
   "source": [
    "print(\"X_train: \", X_train.shape)\n",
    "print(\"y_train: \", y_train.shape)"
   ]
  },
  {
   "cell_type": "code",
   "execution_count": 14,
   "id": "7a63475f",
   "metadata": {},
   "outputs": [],
   "source": [
    "epochs = 100\n",
    "batch_size = 64\n",
    "n_outputs = y_train.shape[1]"
   ]
  },
  {
   "cell_type": "code",
   "execution_count": 16,
   "id": "8ccf883f",
   "metadata": {},
   "outputs": [
    {
     "name": "stdout",
     "output_type": "stream",
     "text": [
      "Model: \"sequential\"\n",
      "_________________________________________________________________\n",
      " Layer (type)                Output Shape              Param #   \n",
      "=================================================================\n",
      " flatten (Flatten)           (None, 43200)             0         \n",
      "                                                                 \n",
      " dense (Dense)               (None, 1024)              44237824  \n",
      "                                                                 \n",
      " dense_1 (Dense)             (None, 1024)              1049600   \n",
      "                                                                 \n",
      " dense_2 (Dense)             (None, 1024)              1049600   \n",
      "                                                                 \n",
      " dropout (Dropout)           (None, 1024)              0         \n",
      "                                                                 \n",
      " dense_3 (Dense)             (None, 256)               262400    \n",
      "                                                                 \n",
      " dense_4 (Dense)             (None, 256)               65792     \n",
      "                                                                 \n",
      " dense_5 (Dense)             (None, 256)               65792     \n",
      "                                                                 \n",
      " dropout_1 (Dropout)         (None, 256)               0         \n",
      "                                                                 \n",
      " dense_6 (Dense)             (None, 256)               65792     \n",
      "                                                                 \n",
      " dense_7 (Dense)             (None, 256)               65792     \n",
      "                                                                 \n",
      " dense_8 (Dense)             (None, 256)               65792     \n",
      "                                                                 \n",
      " dropout_2 (Dropout)         (None, 256)               0         \n",
      "                                                                 \n",
      " dense_9 (Dense)             (None, 1024)              263168    \n",
      "                                                                 \n",
      " dense_10 (Dense)            (None, 1024)              1049600   \n",
      "                                                                 \n",
      " dense_11 (Dense)            (None, 1024)              1049600   \n",
      "                                                                 \n",
      " dropout_3 (Dropout)         (None, 1024)              0         \n",
      "                                                                 \n",
      " dense_12 (Dense)            (None, 5)                 5125      \n",
      "                                                                 \n",
      "=================================================================\n",
      "Total params: 49,295,877\n",
      "Trainable params: 49,295,877\n",
      "Non-trainable params: 0\n",
      "_________________________________________________________________\n"
     ]
    }
   ],
   "source": [
    "from keras.regularizers import l2\n",
    "model = Sequential()\n",
    "model.add(Flatten(input_shape=(120, 120, 3)))\n",
    "model.add(Dense(1024, activation='relu', kernel_regularizer=l2(1e-4)))\n",
    "model.add(Dense(1024, activation='relu', kernel_regularizer=l2(1e-4)))\n",
    "model.add(Dense(1024, activation='relu', kernel_regularizer=l2(1e-4)))\n",
    "model.add(Dropout(0.25))\n",
    "model.add(Dense(256, activation='relu', kernel_regularizer=l2(1e-4)))\n",
    "model.add(Dense(256, activation='relu', kernel_regularizer=l2(1e-4)))\n",
    "model.add(Dense(256, activation='relu', kernel_regularizer=l2(1e-4)))\n",
    "model.add(Dropout(0.25))\n",
    "model.add(Dense(256, activation='relu', kernel_regularizer=l2(1e-4)))\n",
    "model.add(Dense(256, activation='relu', kernel_regularizer=l2(1e-4)))\n",
    "model.add(Dense(256, activation='relu', kernel_regularizer=l2(1e-4)))\n",
    "model.add(Dropout(0.25))\n",
    "model.add(Dense(1024, activation='relu', kernel_regularizer=l2(1e-4)))\n",
    "model.add(Dense(1024, activation='relu', kernel_regularizer=l2(1e-4)))\n",
    "model.add(Dense(1024, activation='relu', kernel_regularizer=l2(1e-4)))\n",
    "model.add(Dropout(0.25))\n",
    "model.add(Dense(n_outputs, activation='sigmoid'))\n",
    "\n",
    "model.summary()"
   ]
  },
  {
   "cell_type": "code",
   "execution_count": 17,
   "id": "ca2265e1",
   "metadata": {},
   "outputs": [
    {
     "name": "stderr",
     "output_type": "stream",
     "text": [
      "/Users/WilliamDai/miniforge3/envs/TFmacOS/lib/python3.9/site-packages/keras/optimizer_v2/gradient_descent.py:102: UserWarning: The `lr` argument is deprecated, use `learning_rate` instead.\n",
      "  super(SGD, self).__init__(name, **kwargs)\n",
      "/Users/WilliamDai/miniforge3/envs/TFmacOS/lib/python3.9/site-packages/keras/optimizer_v2/adam.py:105: UserWarning: The `lr` argument is deprecated, use `learning_rate` instead.\n",
      "  super(Adam, self).__init__(name, **kwargs)\n"
     ]
    }
   ],
   "source": [
    "from tensorflow.keras.optimizers import SGD\n",
    "from tensorflow.keras.optimizers import Adam\n",
    "sgd = SGD(lr=0.0001, decay=1e-6, momentum=0.9, nesterov=True)\n",
    "adam = Adam(lr=0.00001, decay=1e-6)\n",
    "model.compile(loss='binary_crossentropy', optimizer=adam, metrics=['binary_accuracy'])"
   ]
  },
  {
   "cell_type": "code",
   "execution_count": 18,
   "id": "e4154ed0",
   "metadata": {
    "scrolled": true
   },
   "outputs": [
    {
     "name": "stdout",
     "output_type": "stream",
     "text": [
      "Epoch 1/100\n"
     ]
    },
    {
     "name": "stderr",
     "output_type": "stream",
     "text": [
      "2022-05-31 16:44:40.836226: W tensorflow/core/platform/profile_utils/cpu_utils.cc:128] Failed to get CPU frequency: 0 Hz\n"
     ]
    },
    {
     "name": "stdout",
     "output_type": "stream",
     "text": [
      "248/248 [==============================] - 25s 97ms/step - loss: 1.4516 - binary_accuracy: 0.6265 - val_loss: 1.4202 - val_binary_accuracy: 0.6395\n",
      "Epoch 2/100\n",
      "248/248 [==============================] - 25s 98ms/step - loss: 1.3979 - binary_accuracy: 0.6399 - val_loss: 1.3689 - val_binary_accuracy: 0.6425\n",
      "Epoch 3/100\n",
      "248/248 [==============================] - 24s 97ms/step - loss: 1.3514 - binary_accuracy: 0.6467 - val_loss: 1.3330 - val_binary_accuracy: 0.6500\n",
      "Epoch 4/100\n",
      "248/248 [==============================] - 24s 97ms/step - loss: 1.3154 - binary_accuracy: 0.6507 - val_loss: 1.2994 - val_binary_accuracy: 0.6524\n",
      "Epoch 5/100\n",
      "248/248 [==============================] - 24s 96ms/step - loss: 1.2840 - binary_accuracy: 0.6542 - val_loss: 1.2714 - val_binary_accuracy: 0.6594\n",
      "Epoch 6/100\n",
      "248/248 [==============================] - 25s 99ms/step - loss: 1.2575 - binary_accuracy: 0.6573 - val_loss: 1.2466 - val_binary_accuracy: 0.6592\n",
      "Epoch 7/100\n",
      "248/248 [==============================] - 25s 99ms/step - loss: 1.2338 - binary_accuracy: 0.6579 - val_loss: 1.2295 - val_binary_accuracy: 0.6512\n",
      "Epoch 8/100\n",
      "248/248 [==============================] - 24s 96ms/step - loss: 1.2119 - binary_accuracy: 0.6615 - val_loss: 1.2093 - val_binary_accuracy: 0.6555\n",
      "Epoch 9/100\n",
      "248/248 [==============================] - 25s 99ms/step - loss: 1.1924 - binary_accuracy: 0.6647 - val_loss: 1.1939 - val_binary_accuracy: 0.6513\n",
      "Epoch 10/100\n",
      "248/248 [==============================] - 25s 100ms/step - loss: 1.1764 - binary_accuracy: 0.6637 - val_loss: 1.1732 - val_binary_accuracy: 0.6614\n",
      "Epoch 11/100\n",
      "248/248 [==============================] - 25s 100ms/step - loss: 1.1588 - binary_accuracy: 0.6677 - val_loss: 1.1658 - val_binary_accuracy: 0.6536\n",
      "Epoch 12/100\n",
      "248/248 [==============================] - 24s 97ms/step - loss: 1.1432 - binary_accuracy: 0.6689 - val_loss: 1.1472 - val_binary_accuracy: 0.6582\n",
      "Epoch 13/100\n",
      "248/248 [==============================] - 23s 94ms/step - loss: 1.1293 - binary_accuracy: 0.6704 - val_loss: 1.1352 - val_binary_accuracy: 0.6590\n",
      "Epoch 14/100\n",
      "248/248 [==============================] - 23s 94ms/step - loss: 1.1142 - binary_accuracy: 0.6741 - val_loss: 1.1339 - val_binary_accuracy: 0.6450\n",
      "Epoch 15/100\n",
      "248/248 [==============================] - 24s 95ms/step - loss: 1.1072 - binary_accuracy: 0.6704 - val_loss: 1.1151 - val_binary_accuracy: 0.6603\n",
      "Epoch 16/100\n",
      "248/248 [==============================] - 24s 96ms/step - loss: 1.0910 - binary_accuracy: 0.6755 - val_loss: 1.1273 - val_binary_accuracy: 0.6363\n",
      "Epoch 17/100\n",
      "248/248 [==============================] - 25s 99ms/step - loss: 1.0834 - binary_accuracy: 0.6738 - val_loss: 1.1014 - val_binary_accuracy: 0.6538\n",
      "Epoch 18/100\n",
      "248/248 [==============================] - 24s 99ms/step - loss: 1.0691 - binary_accuracy: 0.6787 - val_loss: 1.0923 - val_binary_accuracy: 0.6543\n",
      "Epoch 19/100\n",
      "248/248 [==============================] - 24s 97ms/step - loss: 1.0573 - binary_accuracy: 0.6805 - val_loss: 1.0828 - val_binary_accuracy: 0.6493\n",
      "Epoch 20/100\n",
      "248/248 [==============================] - 24s 98ms/step - loss: 1.0450 - binary_accuracy: 0.6843 - val_loss: 1.0862 - val_binary_accuracy: 0.6300\n",
      "Epoch 21/100\n",
      "248/248 [==============================] - 25s 99ms/step - loss: 1.0354 - binary_accuracy: 0.6869 - val_loss: 1.0693 - val_binary_accuracy: 0.6598\n",
      "Epoch 22/100\n",
      "248/248 [==============================] - 24s 97ms/step - loss: 1.0245 - binary_accuracy: 0.6893 - val_loss: 1.0604 - val_binary_accuracy: 0.6578\n",
      "Epoch 23/100\n",
      "248/248 [==============================] - 24s 98ms/step - loss: 1.0110 - binary_accuracy: 0.6948 - val_loss: 1.0663 - val_binary_accuracy: 0.6496\n",
      "Epoch 24/100\n",
      "248/248 [==============================] - 24s 97ms/step - loss: 0.9986 - binary_accuracy: 0.6999 - val_loss: 1.0558 - val_binary_accuracy: 0.6494\n",
      "Epoch 25/100\n",
      "248/248 [==============================] - 24s 97ms/step - loss: 0.9890 - binary_accuracy: 0.7014 - val_loss: 1.0580 - val_binary_accuracy: 0.6335\n",
      "Epoch 26/100\n",
      "248/248 [==============================] - 24s 96ms/step - loss: 0.9770 - binary_accuracy: 0.7075 - val_loss: 1.0521 - val_binary_accuracy: 0.6485\n",
      "Epoch 27/100\n",
      "248/248 [==============================] - 24s 98ms/step - loss: 0.9639 - binary_accuracy: 0.7124 - val_loss: 1.0479 - val_binary_accuracy: 0.6438\n",
      "Epoch 28/100\n",
      "248/248 [==============================] - 24s 96ms/step - loss: 0.9545 - binary_accuracy: 0.7147 - val_loss: 1.0605 - val_binary_accuracy: 0.6392\n",
      "Epoch 29/100\n",
      "248/248 [==============================] - 25s 99ms/step - loss: 0.9411 - binary_accuracy: 0.7206 - val_loss: 1.0894 - val_binary_accuracy: 0.6076\n",
      "Epoch 30/100\n",
      "248/248 [==============================] - 24s 98ms/step - loss: 0.9346 - binary_accuracy: 0.7233 - val_loss: 1.0541 - val_binary_accuracy: 0.6334\n",
      "Epoch 31/100\n",
      "248/248 [==============================] - 24s 96ms/step - loss: 0.9194 - binary_accuracy: 0.7305 - val_loss: 1.0760 - val_binary_accuracy: 0.6144\n",
      "Epoch 32/100\n",
      "248/248 [==============================] - 24s 97ms/step - loss: 0.9214 - binary_accuracy: 0.7267 - val_loss: 1.0537 - val_binary_accuracy: 0.6329\n",
      "Epoch 33/100\n",
      "248/248 [==============================] - 23s 95ms/step - loss: 0.8931 - binary_accuracy: 0.7420 - val_loss: 1.0560 - val_binary_accuracy: 0.6206\n",
      "Epoch 34/100\n",
      "248/248 [==============================] - 23s 94ms/step - loss: 0.8832 - binary_accuracy: 0.7470 - val_loss: 1.0638 - val_binary_accuracy: 0.6237\n",
      "Epoch 35/100\n",
      "248/248 [==============================] - 24s 96ms/step - loss: 0.8715 - binary_accuracy: 0.7523 - val_loss: 1.1027 - val_binary_accuracy: 0.5927\n",
      "Epoch 36/100\n",
      "248/248 [==============================] - 24s 96ms/step - loss: 0.8752 - binary_accuracy: 0.7460 - val_loss: 1.0855 - val_binary_accuracy: 0.6218\n",
      "Epoch 37/100\n",
      "248/248 [==============================] - 23s 93ms/step - loss: 0.8509 - binary_accuracy: 0.7600 - val_loss: 1.0596 - val_binary_accuracy: 0.6321\n"
     ]
    }
   ],
   "source": [
    "early_stopping_cb = tf.keras.callbacks.EarlyStopping(monitor='val_loss', patience=10, restore_best_weights=True)\n",
    "history_mlp = model.fit(X_train, y_train, \n",
    "                          batch_size=batch_size, \n",
    "                          epochs=epochs,\n",
    "                          validation_data=(X_val, y_val),\n",
    "                          callbacks=early_stopping_cb)"
   ]
  },
  {
   "cell_type": "code",
   "execution_count": 19,
   "id": "c3deb15b",
   "metadata": {},
   "outputs": [
    {
     "data": {
      "image/png": "[encoded data removed]",
      "text/plain": [
       "<Figure size 1080x360 with 2 Axes>"
      ]
     },
     "metadata": {
      "needs_background": "light"
     },
     "output_type": "display_data"
    }
   ],
   "source": [
    "history(history_mlp)"
   ]
  },
  {
   "cell_type": "code",
   "execution_count": 20,
   "id": "c5af1307",
   "metadata": {},
   "outputs": [],
   "source": [
    "mlp_predictions = (model.predict(X_val) >= 0.5).astype(int)"
   ]
  },
  {
   "cell_type": "code",
   "execution_count": 21,
   "id": "a2cd95b1",
   "metadata": {},
   "outputs": [
    {
     "name": "stdout",
     "output_type": "stream",
     "text": [
      "F1 score: 0.59808\n"
     ]
    }
   ],
   "source": [
    "# F1 Score\n",
    "mlp_score = f1_score(y_val, mlp_predictions)\n",
    "print('F1 score: %.5f' % mlp_score)"
   ]
  },
  {
   "cell_type": "markdown",
   "id": "4a2ff1ad",
   "metadata": {},
   "source": [
    "### CNN"
   ]
  },
  {
   "cell_type": "code",
   "execution_count": 22,
   "id": "d861110c",
   "metadata": {},
   "outputs": [
    {
     "name": "stdout",
     "output_type": "stream",
     "text": [
      "Model: \"sequential_1\"\n",
      "_________________________________________________________________\n",
      " Layer (type)                Output Shape              Param #   \n",
      "=================================================================\n",
      " conv2d (Conv2D)             (None, 120, 120, 64)      1792      \n",
      "                                                                 \n",
      " conv2d_1 (Conv2D)           (None, 120, 120, 64)      36928     \n",
      "                                                                 \n",
      " max_pooling2d (MaxPooling2D  (None, 60, 60, 64)       0         \n",
      " )                                                               \n",
      "                                                                 \n",
      " batch_normalization (BatchN  (None, 60, 60, 64)       256       \n",
      " ormalization)                                                   \n",
      "                                                                 \n",
      " conv2d_2 (Conv2D)           (None, 60, 60, 128)       73856     \n",
      "                                                                 \n",
      " conv2d_3 (Conv2D)           (None, 60, 60, 128)       147584    \n",
      "                                                                 \n",
      " flatten_1 (Flatten)         (None, 460800)            0         \n",
      "                                                                 \n",
      " dropout_4 (Dropout)         (None, 460800)            0         \n",
      "                                                                 \n",
      " dense_13 (Dense)            (None, 64)                29491264  \n",
      "                                                                 \n",
      " dense_14 (Dense)            (None, 5)                 325       \n",
      "                                                                 \n",
      "=================================================================\n",
      "Total params: 29,752,005\n",
      "Trainable params: 29,751,877\n",
      "Non-trainable params: 128\n",
      "_________________________________________________________________\n"
     ]
    }
   ],
   "source": [
    "from tensorflow.keras.optimizers import SGD\n",
    "from tensorflow.keras.optimizers import Adam\n",
    "sgd = SGD(lr=0.0001, decay=1e-6, momentum=0.9, nesterov=True)\n",
    "adam = Adam(lr=0.00001, decay=1e-6)\n",
    "cnn = Sequential([\n",
    "    Conv2D(64, (3,3), activation='relu', padding='same', input_shape=(120, 120, 3)),\n",
    "    Conv2D(64, (3,3), activation='relu', padding='same'),\n",
    "    MaxPooling2D(2,2),\n",
    "    BatchNormalization(),\n",
    "    Conv2D(128, (3,3), activation='relu', padding='same'),\n",
    "    Conv2D(128, (3,3), activation='relu', padding='same'),\n",
    "    Flatten(),\n",
    "    Dropout(0.25),\n",
    "    Dense(64, activation='relu', kernel_regularizer=l2(1e-4)),\n",
    "    Dense(n_outputs, activation='sigmoid')\n",
    "])\n",
    "\n",
    "cnn.compile(optimizer = sgd, loss='binary_crossentropy', metrics=['binary_accuracy'])\n",
    "\n",
    "cnn.summary()"
   ]
  },
  {
   "cell_type": "code",
   "execution_count": 23,
   "id": "31bbc6cb",
   "metadata": {
    "scrolled": true
   },
   "outputs": [
    {
     "name": "stdout",
     "output_type": "stream",
     "text": [
      "Epoch 1/100\n",
      "248/248 [==============================] - 393s 2s/step - loss: 0.6443 - binary_accuracy: 0.6475 - val_loss: 0.6622 - val_binary_accuracy: 0.6585\n",
      "Epoch 2/100\n",
      "248/248 [==============================] - 393s 2s/step - loss: 0.6206 - binary_accuracy: 0.6714 - val_loss: 0.6249 - val_binary_accuracy: 0.6721\n",
      "Epoch 3/100\n",
      "248/248 [==============================] - 392s 2s/step - loss: 0.6103 - binary_accuracy: 0.6786 - val_loss: 0.6134 - val_binary_accuracy: 0.6758\n",
      "Epoch 4/100\n",
      "248/248 [==============================] - 390s 2s/step - loss: 0.6018 - binary_accuracy: 0.6849 - val_loss: 0.6120 - val_binary_accuracy: 0.6765\n",
      "Epoch 5/100\n",
      "248/248 [==============================] - 389s 2s/step - loss: 0.5954 - binary_accuracy: 0.6900 - val_loss: 0.6174 - val_binary_accuracy: 0.6693\n",
      "Epoch 6/100\n",
      "248/248 [==============================] - 387s 2s/step - loss: 0.5876 - binary_accuracy: 0.6972 - val_loss: 0.6272 - val_binary_accuracy: 0.6634\n",
      "Epoch 7/100\n",
      "248/248 [==============================] - 391s 2s/step - loss: 0.5819 - binary_accuracy: 0.7021 - val_loss: 0.6028 - val_binary_accuracy: 0.6808\n",
      "Epoch 8/100\n",
      "248/248 [==============================] - 388s 2s/step - loss: 0.5752 - binary_accuracy: 0.7066 - val_loss: 0.6027 - val_binary_accuracy: 0.6813\n",
      "Epoch 9/100\n",
      "248/248 [==============================] - 387s 2s/step - loss: 0.5688 - binary_accuracy: 0.7118 - val_loss: 0.5999 - val_binary_accuracy: 0.6841\n",
      "Epoch 10/100\n",
      "248/248 [==============================] - 409s 2s/step - loss: 0.5632 - binary_accuracy: 0.7161 - val_loss: 0.6004 - val_binary_accuracy: 0.6833\n",
      "Epoch 11/100\n",
      "248/248 [==============================] - 409s 2s/step - loss: 0.5564 - binary_accuracy: 0.7219 - val_loss: 0.6023 - val_binary_accuracy: 0.6815\n",
      "Epoch 12/100\n",
      "248/248 [==============================] - 404s 2s/step - loss: 0.5493 - binary_accuracy: 0.7274 - val_loss: 0.6028 - val_binary_accuracy: 0.6816\n",
      "Epoch 13/100\n",
      "248/248 [==============================] - 406s 2s/step - loss: 0.5430 - binary_accuracy: 0.7323 - val_loss: 0.6079 - val_binary_accuracy: 0.6787\n",
      "Epoch 14/100\n",
      "248/248 [==============================] - 398s 2s/step - loss: 0.5367 - binary_accuracy: 0.7379 - val_loss: 0.6027 - val_binary_accuracy: 0.6855\n",
      "Epoch 15/100\n",
      "248/248 [==============================] - 404s 2s/step - loss: 0.5301 - binary_accuracy: 0.7435 - val_loss: 0.6030 - val_binary_accuracy: 0.6842\n",
      "Epoch 16/100\n",
      "248/248 [==============================] - 408s 2s/step - loss: 0.5234 - binary_accuracy: 0.7490 - val_loss: 0.6144 - val_binary_accuracy: 0.6726\n",
      "Epoch 17/100\n",
      "248/248 [==============================] - 408s 2s/step - loss: 0.5154 - binary_accuracy: 0.7560 - val_loss: 0.6023 - val_binary_accuracy: 0.6871\n",
      "Epoch 18/100\n",
      "248/248 [==============================] - 415s 2s/step - loss: 0.5086 - binary_accuracy: 0.7612 - val_loss: 0.6228 - val_binary_accuracy: 0.6735\n",
      "Epoch 19/100\n",
      "248/248 [==============================] - 418s 2s/step - loss: 0.5022 - binary_accuracy: 0.7652 - val_loss: 0.6424 - val_binary_accuracy: 0.6662\n"
     ]
    }
   ],
   "source": [
    "early_stopping_cb = EarlyStopping(monitor='val_loss', patience=10, restore_best_weights=True)\n",
    "history_cnn = cnn.fit(X_train, y_train, \n",
    "                      batch_size=batch_size, \n",
    "                      epochs=epochs,\n",
    "                      validation_data=(X_val, y_val),\n",
    "                      callbacks=early_stopping_cb)"
   ]
  },
  {
   "cell_type": "code",
   "execution_count": 24,
   "id": "c82e9ebe",
   "metadata": {},
   "outputs": [
    {
     "data": {
      "image/png": "[encoded data removed]",
      "text/plain": [
       "<Figure size 1080x360 with 2 Axes>"
      ]
     },
     "metadata": {
      "needs_background": "light"
     },
     "output_type": "display_data"
    }
   ],
   "source": [
    "history(history_cnn)"
   ]
  },
  {
   "cell_type": "code",
   "execution_count": 25,
   "id": "8b4de485",
   "metadata": {},
   "outputs": [],
   "source": [
    "cnn_predictions = (cnn.predict(X_val) >= 0.5).astype(int)"
   ]
  },
  {
   "cell_type": "code",
   "execution_count": 26,
   "id": "c1110ba8",
   "metadata": {},
   "outputs": [
    {
     "name": "stdout",
     "output_type": "stream",
     "text": [
      "F1 score: 0.65403\n"
     ]
    }
   ],
   "source": [
    "# F1 Score\n",
    "cnn_score = f1_score(y_val, cnn_predictions)\n",
    "print('F1 score: %.5f' % cnn_score)"
   ]
  },
  {
   "cell_type": "code",
   "execution_count": null,
   "id": "84dbe88f",
   "metadata": {},
   "outputs": [],
   "source": []
  }
 ],
 "metadata": {
  "kernelspec": {
   "display_name": "Python 3 (ipykernel)",
   "language": "python",
   "name": "python3"
  },
  "language_info": {
   "codemirror_mode": {
    "name": "ipython",
    "version": 3
   },
   "file_extension": ".py",
   "mimetype": "text/x-python",
   "name": "python",
   "nbconvert_exporter": "python",
   "pygments_lexer": "ipython3",
   "version": "3.9.12"
  }
 },
 "nbformat": 4,
 "nbformat_minor": 5
}
